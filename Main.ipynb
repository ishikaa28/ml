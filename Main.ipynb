{
 "cells": [
  {
   "cell_type": "code",
   "execution_count": 1,
   "metadata": {},
   "outputs": [],
   "source": [
    "import numpy as np \n",
    "import pandas as pd\n",
    "import matplotlib.pyplot as plt"
   ]
  },
  {
   "cell_type": "code",
   "execution_count": 2,
   "metadata": {},
   "outputs": [
    {
     "ename": "FileNotFoundError",
     "evalue": "[Errno 2] No such file or directory: '/Users/prabhavsanga/Desktop/AQI Quality/Dataset/Air Pollution Image Dataset/Air Pollution Image Dataset/Combined_Dataset/IND_and_Nep_AQI_Dataset.csv'",
     "output_type": "error",
     "traceback": [
      "\u001b[1;31m---------------------------------------------------------------------------\u001b[0m",
      "\u001b[1;31mFileNotFoundError\u001b[0m                         Traceback (most recent call last)",
      "Cell \u001b[1;32mIn[2], line 1\u001b[0m\n\u001b[1;32m----> 1\u001b[0m df \u001b[39m=\u001b[39m pd\u001b[39m.\u001b[39;49mread_csv(\u001b[39m'\u001b[39;49m\u001b[39m/Users/prabhavsanga/Desktop/AQI Quality/Dataset/Air Pollution Image Dataset/Air Pollution Image Dataset/Combined_Dataset/IND_and_Nep_AQI_Dataset.csv\u001b[39;49m\u001b[39m'\u001b[39;49m)\n\u001b[0;32m      2\u001b[0m df\u001b[39m.\u001b[39mhead()\n\u001b[0;32m      3\u001b[0m \u001b[39mprint\u001b[39m(df[\u001b[39m'\u001b[39m\u001b[39mAQI_Class\u001b[39m\u001b[39m'\u001b[39m]\u001b[39m.\u001b[39munique())\n",
      "File \u001b[1;32mc:\\Python311\\Lib\\site-packages\\pandas\\io\\parsers\\readers.py:912\u001b[0m, in \u001b[0;36mread_csv\u001b[1;34m(filepath_or_buffer, sep, delimiter, header, names, index_col, usecols, dtype, engine, converters, true_values, false_values, skipinitialspace, skiprows, skipfooter, nrows, na_values, keep_default_na, na_filter, verbose, skip_blank_lines, parse_dates, infer_datetime_format, keep_date_col, date_parser, date_format, dayfirst, cache_dates, iterator, chunksize, compression, thousands, decimal, lineterminator, quotechar, quoting, doublequote, escapechar, comment, encoding, encoding_errors, dialect, on_bad_lines, delim_whitespace, low_memory, memory_map, float_precision, storage_options, dtype_backend)\u001b[0m\n\u001b[0;32m    899\u001b[0m kwds_defaults \u001b[39m=\u001b[39m _refine_defaults_read(\n\u001b[0;32m    900\u001b[0m     dialect,\n\u001b[0;32m    901\u001b[0m     delimiter,\n\u001b[1;32m   (...)\u001b[0m\n\u001b[0;32m    908\u001b[0m     dtype_backend\u001b[39m=\u001b[39mdtype_backend,\n\u001b[0;32m    909\u001b[0m )\n\u001b[0;32m    910\u001b[0m kwds\u001b[39m.\u001b[39mupdate(kwds_defaults)\n\u001b[1;32m--> 912\u001b[0m \u001b[39mreturn\u001b[39;00m _read(filepath_or_buffer, kwds)\n",
      "File \u001b[1;32mc:\\Python311\\Lib\\site-packages\\pandas\\io\\parsers\\readers.py:577\u001b[0m, in \u001b[0;36m_read\u001b[1;34m(filepath_or_buffer, kwds)\u001b[0m\n\u001b[0;32m    574\u001b[0m _validate_names(kwds\u001b[39m.\u001b[39mget(\u001b[39m\"\u001b[39m\u001b[39mnames\u001b[39m\u001b[39m\"\u001b[39m, \u001b[39mNone\u001b[39;00m))\n\u001b[0;32m    576\u001b[0m \u001b[39m# Create the parser.\u001b[39;00m\n\u001b[1;32m--> 577\u001b[0m parser \u001b[39m=\u001b[39m TextFileReader(filepath_or_buffer, \u001b[39m*\u001b[39;49m\u001b[39m*\u001b[39;49mkwds)\n\u001b[0;32m    579\u001b[0m \u001b[39mif\u001b[39;00m chunksize \u001b[39mor\u001b[39;00m iterator:\n\u001b[0;32m    580\u001b[0m     \u001b[39mreturn\u001b[39;00m parser\n",
      "File \u001b[1;32mc:\\Python311\\Lib\\site-packages\\pandas\\io\\parsers\\readers.py:1407\u001b[0m, in \u001b[0;36mTextFileReader.__init__\u001b[1;34m(self, f, engine, **kwds)\u001b[0m\n\u001b[0;32m   1404\u001b[0m     \u001b[39mself\u001b[39m\u001b[39m.\u001b[39moptions[\u001b[39m\"\u001b[39m\u001b[39mhas_index_names\u001b[39m\u001b[39m\"\u001b[39m] \u001b[39m=\u001b[39m kwds[\u001b[39m\"\u001b[39m\u001b[39mhas_index_names\u001b[39m\u001b[39m\"\u001b[39m]\n\u001b[0;32m   1406\u001b[0m \u001b[39mself\u001b[39m\u001b[39m.\u001b[39mhandles: IOHandles \u001b[39m|\u001b[39m \u001b[39mNone\u001b[39;00m \u001b[39m=\u001b[39m \u001b[39mNone\u001b[39;00m\n\u001b[1;32m-> 1407\u001b[0m \u001b[39mself\u001b[39m\u001b[39m.\u001b[39m_engine \u001b[39m=\u001b[39m \u001b[39mself\u001b[39;49m\u001b[39m.\u001b[39;49m_make_engine(f, \u001b[39mself\u001b[39;49m\u001b[39m.\u001b[39;49mengine)\n",
      "File \u001b[1;32mc:\\Python311\\Lib\\site-packages\\pandas\\io\\parsers\\readers.py:1661\u001b[0m, in \u001b[0;36mTextFileReader._make_engine\u001b[1;34m(self, f, engine)\u001b[0m\n\u001b[0;32m   1659\u001b[0m     \u001b[39mif\u001b[39;00m \u001b[39m\"\u001b[39m\u001b[39mb\u001b[39m\u001b[39m\"\u001b[39m \u001b[39mnot\u001b[39;00m \u001b[39min\u001b[39;00m mode:\n\u001b[0;32m   1660\u001b[0m         mode \u001b[39m+\u001b[39m\u001b[39m=\u001b[39m \u001b[39m\"\u001b[39m\u001b[39mb\u001b[39m\u001b[39m\"\u001b[39m\n\u001b[1;32m-> 1661\u001b[0m \u001b[39mself\u001b[39m\u001b[39m.\u001b[39mhandles \u001b[39m=\u001b[39m get_handle(\n\u001b[0;32m   1662\u001b[0m     f,\n\u001b[0;32m   1663\u001b[0m     mode,\n\u001b[0;32m   1664\u001b[0m     encoding\u001b[39m=\u001b[39;49m\u001b[39mself\u001b[39;49m\u001b[39m.\u001b[39;49moptions\u001b[39m.\u001b[39;49mget(\u001b[39m\"\u001b[39;49m\u001b[39mencoding\u001b[39;49m\u001b[39m\"\u001b[39;49m, \u001b[39mNone\u001b[39;49;00m),\n\u001b[0;32m   1665\u001b[0m     compression\u001b[39m=\u001b[39;49m\u001b[39mself\u001b[39;49m\u001b[39m.\u001b[39;49moptions\u001b[39m.\u001b[39;49mget(\u001b[39m\"\u001b[39;49m\u001b[39mcompression\u001b[39;49m\u001b[39m\"\u001b[39;49m, \u001b[39mNone\u001b[39;49;00m),\n\u001b[0;32m   1666\u001b[0m     memory_map\u001b[39m=\u001b[39;49m\u001b[39mself\u001b[39;49m\u001b[39m.\u001b[39;49moptions\u001b[39m.\u001b[39;49mget(\u001b[39m\"\u001b[39;49m\u001b[39mmemory_map\u001b[39;49m\u001b[39m\"\u001b[39;49m, \u001b[39mFalse\u001b[39;49;00m),\n\u001b[0;32m   1667\u001b[0m     is_text\u001b[39m=\u001b[39;49mis_text,\n\u001b[0;32m   1668\u001b[0m     errors\u001b[39m=\u001b[39;49m\u001b[39mself\u001b[39;49m\u001b[39m.\u001b[39;49moptions\u001b[39m.\u001b[39;49mget(\u001b[39m\"\u001b[39;49m\u001b[39mencoding_errors\u001b[39;49m\u001b[39m\"\u001b[39;49m, \u001b[39m\"\u001b[39;49m\u001b[39mstrict\u001b[39;49m\u001b[39m\"\u001b[39;49m),\n\u001b[0;32m   1669\u001b[0m     storage_options\u001b[39m=\u001b[39;49m\u001b[39mself\u001b[39;49m\u001b[39m.\u001b[39;49moptions\u001b[39m.\u001b[39;49mget(\u001b[39m\"\u001b[39;49m\u001b[39mstorage_options\u001b[39;49m\u001b[39m\"\u001b[39;49m, \u001b[39mNone\u001b[39;49;00m),\n\u001b[0;32m   1670\u001b[0m )\n\u001b[0;32m   1671\u001b[0m \u001b[39massert\u001b[39;00m \u001b[39mself\u001b[39m\u001b[39m.\u001b[39mhandles \u001b[39mis\u001b[39;00m \u001b[39mnot\u001b[39;00m \u001b[39mNone\u001b[39;00m\n\u001b[0;32m   1672\u001b[0m f \u001b[39m=\u001b[39m \u001b[39mself\u001b[39m\u001b[39m.\u001b[39mhandles\u001b[39m.\u001b[39mhandle\n",
      "File \u001b[1;32mc:\\Python311\\Lib\\site-packages\\pandas\\io\\common.py:859\u001b[0m, in \u001b[0;36mget_handle\u001b[1;34m(path_or_buf, mode, encoding, compression, memory_map, is_text, errors, storage_options)\u001b[0m\n\u001b[0;32m    854\u001b[0m \u001b[39melif\u001b[39;00m \u001b[39misinstance\u001b[39m(handle, \u001b[39mstr\u001b[39m):\n\u001b[0;32m    855\u001b[0m     \u001b[39m# Check whether the filename is to be opened in binary mode.\u001b[39;00m\n\u001b[0;32m    856\u001b[0m     \u001b[39m# Binary mode does not support 'encoding' and 'newline'.\u001b[39;00m\n\u001b[0;32m    857\u001b[0m     \u001b[39mif\u001b[39;00m ioargs\u001b[39m.\u001b[39mencoding \u001b[39mand\u001b[39;00m \u001b[39m\"\u001b[39m\u001b[39mb\u001b[39m\u001b[39m\"\u001b[39m \u001b[39mnot\u001b[39;00m \u001b[39min\u001b[39;00m ioargs\u001b[39m.\u001b[39mmode:\n\u001b[0;32m    858\u001b[0m         \u001b[39m# Encoding\u001b[39;00m\n\u001b[1;32m--> 859\u001b[0m         handle \u001b[39m=\u001b[39m \u001b[39mopen\u001b[39;49m(\n\u001b[0;32m    860\u001b[0m             handle,\n\u001b[0;32m    861\u001b[0m             ioargs\u001b[39m.\u001b[39;49mmode,\n\u001b[0;32m    862\u001b[0m             encoding\u001b[39m=\u001b[39;49mioargs\u001b[39m.\u001b[39;49mencoding,\n\u001b[0;32m    863\u001b[0m             errors\u001b[39m=\u001b[39;49merrors,\n\u001b[0;32m    864\u001b[0m             newline\u001b[39m=\u001b[39;49m\u001b[39m\"\u001b[39;49m\u001b[39m\"\u001b[39;49m,\n\u001b[0;32m    865\u001b[0m         )\n\u001b[0;32m    866\u001b[0m     \u001b[39melse\u001b[39;00m:\n\u001b[0;32m    867\u001b[0m         \u001b[39m# Binary mode\u001b[39;00m\n\u001b[0;32m    868\u001b[0m         handle \u001b[39m=\u001b[39m \u001b[39mopen\u001b[39m(handle, ioargs\u001b[39m.\u001b[39mmode)\n",
      "\u001b[1;31mFileNotFoundError\u001b[0m: [Errno 2] No such file or directory: '/Users/prabhavsanga/Desktop/AQI Quality/Dataset/Air Pollution Image Dataset/Air Pollution Image Dataset/Combined_Dataset/IND_and_Nep_AQI_Dataset.csv'"
     ]
    }
   ],
   "source": [
    "df = pd.read_csv('/Users/prabhavsanga/Desktop/AQI Quality/Dataset/Air Pollution Image Dataset/Air Pollution Image Dataset/Combined_Dataset/IND_and_Nep_AQI_Dataset.csv')\n",
    "df.head()\n",
    "print(df['AQI_Class'].unique())"
   ]
  },
  {
   "cell_type": "code",
   "execution_count": 26,
   "metadata": {},
   "outputs": [],
   "source": [
    "aqi_dict = { 'a_Good' : 0 , \n",
    "             'b_Moderate' : 1 ,\n",
    "             'c_Unhealthy_for_Sensitive_Groups' : 2 ,\n",
    "             'd_Unhealthy' : 3 ,\n",
    "             'e_Very_Unhealthy' : 4 ,\n",
    "             'f_Severe' : 5}\n",
    "\n",
    "df['aqi_id'] = df['AQI_Class'].map(aqi_dict)"
   ]
  },
  {
   "cell_type": "code",
   "execution_count": 27,
   "metadata": {},
   "outputs": [
    {
     "name": "stdout",
     "output_type": "stream",
     "text": [
      "c_Unhealthy_for_Sensitive_Groups    2863\n",
      "d_Unhealthy                         2622\n",
      "e_Very_Unhealthy                    2194\n",
      "b_Moderate                          1573\n",
      "a_Good                              1541\n",
      "f_Severe                            1447\n",
      "Name: AQI_Class, dtype: int64\n",
      "Total number of images 12240\n"
     ]
    }
   ],
   "source": [
    "print(df['AQI_Class'].value_counts())\n",
    "print('Total number of images',len(df))"
   ]
  },
  {
   "cell_type": "code",
   "execution_count": 28,
   "metadata": {},
   "outputs": [
    {
     "data": {
      "image/png": "[encoded data removed]",
      "text/plain": [
       "<Figure size 360x144 with 2 Axes>"
      ]
     },
     "metadata": {
      "needs_background": "light"
     },
     "output_type": "display_data"
    }
   ],
   "source": [
    "fname_images = np.array(df['Filename'])\n",
    "file_to_read ='/Users/prabhavsanga/Desktop/AQI Quality/Dataset/Air Pollution Image Dataset/Air Pollution Image Dataset/Combined_Dataset/IND_and_NEP/f_Severe/DEL_SEV_2023-02-07-14.00-1-1.jpg'\n",
    "\n",
    "import cv2\n",
    "from cv2 import imread, resize\n",
    "\n",
    "SIZE = 112\n",
    " \n",
    "img = imread(file_to_read)\n",
    "img2 = resize(img,(SIZE,SIZE))\n",
    "\n",
    "plt.figure(figsize=(5,2))\n",
    "plt.subplot(1,2,1)\n",
    "plt.imshow(img[:,:,::-1])\n",
    "plt.title('Original image')\n",
    "plt.subplot(1,2,2)\n",
    "plt.imshow(img2[:,:,::-1])\n",
    "plt.title('Resized image')\n",
    "plt.show()"
   ]
  },
  {
   "cell_type": "code",
   "execution_count": 29,
   "metadata": {},
   "outputs": [
    {
     "name": "stdout",
     "output_type": "stream",
     "text": [
      "0 images loaded\n",
      "100 images loaded\n",
      "200 images loaded\n",
      "300 images loaded\n",
      "400 images loaded\n",
      "500 images loaded\n",
      "600 images loaded\n",
      "700 images loaded\n",
      "800 images loaded\n",
      "900 images loaded\n",
      "1000 images loaded\n",
      "1100 images loaded\n",
      "1200 images loaded\n",
      "1300 images loaded\n",
      "1400 images loaded\n",
      "1500 images loaded\n",
      "0 images loaded\n",
      "100 images loaded\n",
      "200 images loaded\n",
      "300 images loaded\n",
      "400 images loaded\n",
      "500 images loaded\n",
      "600 images loaded\n",
      "700 images loaded\n",
      "800 images loaded\n",
      "900 images loaded\n",
      "1000 images loaded\n",
      "1100 images loaded\n",
      "1200 images loaded\n",
      "1300 images loaded\n",
      "1400 images loaded\n",
      "1500 images loaded\n",
      "0 images loaded\n",
      "100 images loaded\n",
      "200 images loaded\n",
      "300 images loaded\n",
      "400 images loaded\n",
      "500 images loaded\n",
      "600 images loaded\n",
      "700 images loaded\n",
      "800 images loaded\n",
      "900 images loaded\n",
      "1000 images loaded\n",
      "1100 images loaded\n",
      "1200 images loaded\n",
      "1300 images loaded\n",
      "1400 images loaded\n",
      "1500 images loaded\n",
      "1600 images loaded\n",
      "1700 images loaded\n",
      "1800 images loaded\n",
      "1900 images loaded\n",
      "2000 images loaded\n",
      "2100 images loaded\n",
      "2200 images loaded\n",
      "2300 images loaded\n",
      "2400 images loaded\n",
      "2500 images loaded\n",
      "2600 images loaded\n",
      "2700 images loaded\n",
      "2800 images loaded\n",
      "0 images loaded\n",
      "100 images loaded\n",
      "200 images loaded\n",
      "300 images loaded\n",
      "400 images loaded\n",
      "500 images loaded\n",
      "600 images loaded\n",
      "700 images loaded\n",
      "800 images loaded\n",
      "900 images loaded\n",
      "1000 images loaded\n",
      "1100 images loaded\n",
      "1200 images loaded\n",
      "1300 images loaded\n",
      "1400 images loaded\n",
      "1500 images loaded\n",
      "1600 images loaded\n",
      "1700 images loaded\n",
      "1800 images loaded\n",
      "1900 images loaded\n",
      "2000 images loaded\n",
      "2100 images loaded\n",
      "2200 images loaded\n",
      "2300 images loaded\n",
      "2400 images loaded\n",
      "2500 images loaded\n",
      "2600 images loaded\n",
      "0 images loaded\n",
      "100 images loaded\n",
      "200 images loaded\n",
      "300 images loaded\n",
      "400 images loaded\n",
      "500 images loaded\n",
      "600 images loaded\n",
      "700 images loaded\n",
      "800 images loaded\n",
      "900 images loaded\n",
      "1000 images loaded\n",
      "1100 images loaded\n",
      "1200 images loaded\n",
      "1300 images loaded\n",
      "1400 images loaded\n",
      "1500 images loaded\n",
      "1600 images loaded\n",
      "1700 images loaded\n",
      "1800 images loaded\n",
      "1900 images loaded\n",
      "2000 images loaded\n",
      "2100 images loaded\n",
      "0 images loaded\n",
      "100 images loaded\n",
      "200 images loaded\n",
      "300 images loaded\n",
      "400 images loaded\n",
      "500 images loaded\n",
      "600 images loaded\n",
      "700 images loaded\n",
      "800 images loaded\n",
      "900 images loaded\n",
      "1000 images loaded\n",
      "1100 images loaded\n",
      "1200 images loaded\n",
      "1300 images loaded\n",
      "1400 images loaded\n"
     ]
    }
   ],
   "source": [
    "import os\n",
    "X = []\n",
    "y = []\n",
    "\n",
    "lista1 = os.listdir('/Users/prabhavsanga/Desktop/AQI Quality/Dataset/Air Pollution Image Dataset/Air Pollution Image Dataset/Combined_Dataset/IND_and_NEP/a_Good/')\n",
    "lista2 = os.listdir('/Users/prabhavsanga/Desktop/AQI Quality/Dataset/Air Pollution Image Dataset/Air Pollution Image Dataset/Combined_Dataset/IND_and_NEP/b_Moderate/')\n",
    "lista3 = os.listdir('/Users/prabhavsanga/Desktop/AQI Quality/Dataset/Air Pollution Image Dataset/Air Pollution Image Dataset/Combined_Dataset/IND_and_NEP/c_Unhealthy_for_Sensitive_Groups/')\n",
    "lista4 = os.listdir('/Users/prabhavsanga/Desktop/AQI Quality/Dataset/Air Pollution Image Dataset/Air Pollution Image Dataset/Combined_Dataset/IND_and_NEP/d_Unhealthy/')\n",
    "lista5 = os.listdir('/Users/prabhavsanga/Desktop/AQI Quality/Dataset/Air Pollution Image Dataset/Air Pollution Image Dataset/Combined_Dataset/IND_and_NEP/e_Very_Unhealthy/')\n",
    "lista6 = os.listdir('/Users/prabhavsanga/Desktop/AQI Quality/Dataset/Air Pollution Image Dataset/Air Pollution Image Dataset/Combined_Dataset/IND_and_NEP/f_Severe/')\n",
    "\n",
    "for i in range(len(lista1)):\n",
    "    fname_image = lista1[i]\n",
    "    fname_ID = fname_image.replace('.jpg','')\n",
    "    \n",
    "    \n",
    "    file_to_read ='/Users/prabhavsanga/Desktop/AQI Quality/Dataset/Air Pollution Image Dataset/Air Pollution Image Dataset/Combined_Dataset/IND_and_NEP/a_Good/'+str(fname_image)\n",
    "    img = imread(file_to_read)\n",
    "    img2 = resize(img,(SIZE,SIZE))\n",
    "    X.append(img2)\n",
    "    \n",
    "    #targets\n",
    "    output = np.array(df[df['Filename'] == fname_image].aqi_id)\n",
    "    \n",
    "    y.append(output[0])\n",
    "    \n",
    "    if i % int(100) == 0:\n",
    "        print(i,'images loaded')\n",
    "\n",
    "for i in range(len(lista2)):\n",
    "    fname_image = lista2[i]\n",
    "    fname_ID = fname_image.replace('.jpg','')\n",
    "    \n",
    "    \n",
    "    file_to_read ='/Users/prabhavsanga/Desktop/AQI Quality/Dataset/Air Pollution Image Dataset/Air Pollution Image Dataset/Combined_Dataset/IND_and_NEP/b_Moderate/'+str(fname_image)\n",
    "    img = imread(file_to_read)\n",
    "    img2 = resize(img,(SIZE,SIZE))\n",
    "    X.append(img2)\n",
    "    \n",
    "    #targets\n",
    "    output = np.array(df[df['Filename'] == fname_image].aqi_id)\n",
    "    \n",
    "    y.append(output[0])\n",
    "    \n",
    "    if i % int(100) == 0:\n",
    "        print(i,'images loaded')\n",
    "        \n",
    "for i in range(len(lista3)):\n",
    "    fname_image = lista3[i]\n",
    "    fname_ID = fname_image.replace('.jpg','')\n",
    "    \n",
    "    \n",
    "    file_to_read ='/Users/prabhavsanga/Desktop/AQI Quality/Dataset/Air Pollution Image Dataset/Air Pollution Image Dataset/Combined_Dataset/IND_and_NEP/c_Unhealthy_for_Sensitive_Groups/'+str(fname_image)\n",
    "    img = imread(file_to_read)\n",
    "    img2 = resize(img,(SIZE,SIZE))\n",
    "    X.append(img2)\n",
    "    \n",
    "    #targets\n",
    "    output = np.array(df[df['Filename'] == fname_image].aqi_id)\n",
    "    \n",
    "    y.append(output[0])\n",
    "    \n",
    "    if i % int(100) == 0:\n",
    "        print(i,'images loaded')\n",
    "        \n",
    "for i in range(len(lista4)):\n",
    "    fname_image = lista4[i]\n",
    "    fname_ID = fname_image.replace('.jpg','')\n",
    "    \n",
    "    \n",
    "    file_to_read ='/Users/prabhavsanga/Desktop/AQI Quality/Dataset/Air Pollution Image Dataset/Air Pollution Image Dataset/Combined_Dataset/IND_and_NEP/d_Unhealthy/'+str(fname_image)\n",
    "    img = imread(file_to_read)\n",
    "    img2 = resize(img,(SIZE,SIZE))\n",
    "    X.append(img2)\n",
    "    \n",
    "    #targets\n",
    "    output = np.array(df[df['Filename'] == fname_image].aqi_id)\n",
    "    \n",
    "    y.append(output[0])\n",
    "    \n",
    "    if i % int(100) == 0:\n",
    "        print(i,'images loaded')\n",
    "        \n",
    "for i in range(len(lista5)):\n",
    "    fname_image = lista5[i]\n",
    "    fname_ID = fname_image.replace('.jpg','')\n",
    "    \n",
    "    \n",
    "    file_to_read ='/Users/prabhavsanga/Desktop/AQI Quality/Dataset/Air Pollution Image Dataset/Air Pollution Image Dataset/Combined_Dataset/IND_and_NEP/e_Very_Unhealthy/'+str(fname_image)\n",
    "    img = imread(file_to_read)\n",
    "    img2 = resize(img,(SIZE,SIZE))\n",
    "    X.append(img2)\n",
    "    \n",
    "    #targets\n",
    "    output = np.array(df[df['Filename'] == fname_image].aqi_id)\n",
    "    \n",
    "    y.append(output[0])\n",
    "    \n",
    "    if i % int(100) == 0:\n",
    "        print(i,'images loaded')\n",
    "        \n",
    "for i in range(len(lista6)):\n",
    "    fname_image = lista6[i]\n",
    "    fname_ID = fname_image.replace('.jpg','')\n",
    "    \n",
    "    \n",
    "    file_to_read ='/Users/prabhavsanga/Desktop/AQI Quality/Dataset/Air Pollution Image Dataset/Air Pollution Image Dataset/Combined_Dataset/IND_and_NEP/f_Severe/'+str(fname_image)\n",
    "    img = imread(file_to_read)\n",
    "    img2 = resize(img,(SIZE,SIZE))\n",
    "    X.append(img2)\n",
    "    \n",
    "    #targets\n",
    "    output = np.array(df[df['Filename'] == fname_image].aqi_id)\n",
    "    \n",
    "    y.append(output[0])\n",
    "    \n",
    "    if i % int(100) == 0:\n",
    "        print(i,'images loaded')"
   ]
  },
  {
   "cell_type": "code",
   "execution_count": 30,
   "metadata": {},
   "outputs": [],
   "source": [
    "from keras.utils.np_utils import to_categorical\n",
    "\n",
    "X = np.array(X)\n",
    "y = np.array(y)\n",
    "\n",
    "y_train = to_categorical(y, num_classes=6)\n",
    "\n",
    "from sklearn.model_selection import train_test_split\n",
    "\n",
    "X_train, X_test, y_train, y_test = train_test_split(X, y_train, test_size=0.20, random_state=42,stratify=y)\n"
   ]
  },
  {
   "cell_type": "code",
   "execution_count": 31,
   "metadata": {},
   "outputs": [
    {
     "data": {
      "text/plain": [
       "(9792, 112, 112, 3)"
      ]
     },
     "execution_count": 31,
     "metadata": {},
     "output_type": "execute_result"
    }
   ],
   "source": [
    "X_train.shape"
   ]
  },
  {
   "cell_type": "code",
   "execution_count": 32,
   "metadata": {},
   "outputs": [
    {
     "name": "stdout",
     "output_type": "stream",
     "text": [
      "{0: 1.32, 1: 1.3, 2: 0.71, 3: 0.78, 4: 0.93, 5: 1.41}\n"
     ]
    }
   ],
   "source": [
    "from sklearn.utils.class_weight import compute_class_weight\n",
    "\n",
    "y_id = np.array(df['aqi_id'])\n",
    "\n",
    "\n",
    "class_weights = np.around(compute_class_weight(class_weight='balanced',classes=np.unique(y_id),y=y),2)\n",
    "class_weights = dict(zip(np.unique(y_id),class_weights))\n",
    "\n",
    "print(class_weights)"
   ]
  },
  {
   "cell_type": "code",
   "execution_count": 13,
   "metadata": {},
   "outputs": [
    {
     "name": "stdout",
     "output_type": "stream",
     "text": [
      "WARNING:tensorflow:`input_shape` is undefined or non-square, or `rows` is not in [128, 160, 192, 224]. Weights for input shape (224, 224) will be loaded as the default.\n"
     ]
    }
   ],
   "source": [
    "import tensorflow as tf\n",
    "from keras import layers\n",
    "from keras.optimizers import Adam\n",
    "pre_trained_model = tf.keras.applications.MobileNet(include_top=False,\n",
    "                                                    input_shape=(SIZE, SIZE, 3),\n",
    "                                                    weights='imagenet')\n",
    "\n",
    "\n",
    "for layer in pre_trained_model.layers[:1]:\n",
    "    layer.trainable = False\n",
    "for layer in pre_trained_model.layers[1:]:\n",
    "    layer.trainable = True\n",
    "\n",
    "\n",
    "model = tf.keras.models.Sequential([\n",
    "    pre_trained_model,\n",
    "    layers.Flatten(),\n",
    "    layers.Dense(4096, activation='relu'),\n",
    "    layers.Dropout(0.5),\n",
    "    layers.Dense(4096, activation='relu'),\n",
    "    layers.Dropout(0.5),\n",
    "    layers.Dense(6, activation='softmax')\n",
    "])"
   ]
  },
  {
   "cell_type": "code",
   "execution_count": 14,
   "metadata": {},
   "outputs": [
    {
     "name": "stdout",
     "output_type": "stream",
     "text": [
      "Epoch 1/5\n",
      "306/306 [==============================] - 69s 205ms/step - loss: 1.4470 - accuracy: 0.5657 - auc_1: 0.8579 - precision_1: 0.6024 - recall_1: 0.5276 - val_loss: 0.4302 - val_accuracy: 0.8358 - val_auc_1: 0.9801 - val_precision_1: 0.8631 - val_recall_1: 0.8035\n",
      "Epoch 2/5\n",
      "306/306 [==============================] - 59s 193ms/step - loss: 0.5672 - accuracy: 0.7954 - auc_1: 0.9654 - precision_1: 0.8183 - recall_1: 0.7743 - val_loss: 0.2198 - val_accuracy: 0.9216 - val_auc_1: 0.9949 - val_precision_1: 0.9348 - val_recall_1: 0.9085\n",
      "Epoch 3/5\n",
      "306/306 [==============================] - 73s 239ms/step - loss: 0.3362 - accuracy: 0.8708 - auc_1: 0.9855 - precision_1: 0.8831 - recall_1: 0.8596 - val_loss: 0.1838 - val_accuracy: 0.9301 - val_auc_1: 0.9959 - val_precision_1: 0.9370 - val_recall_1: 0.9236\n",
      "Epoch 4/5\n",
      "306/306 [==============================] - 80s 260ms/step - loss: 0.2592 - accuracy: 0.9031 - auc_1: 0.9913 - precision_1: 0.9110 - recall_1: 0.8954 - val_loss: 0.1338 - val_accuracy: 0.9477 - val_auc_1: 0.9976 - val_precision_1: 0.9538 - val_recall_1: 0.9444\n",
      "Epoch 5/5\n",
      "306/306 [==============================] - 86s 277ms/step - loss: 0.2022 - accuracy: 0.9259 - auc_1: 0.9934 - precision_1: 0.9322 - recall_1: 0.9205 - val_loss: 0.1164 - val_accuracy: 0.9649 - val_auc_1: 0.9976 - val_precision_1: 0.9711 - val_recall_1: 0.9604\n"
     ]
    }
   ],
   "source": [
    "from keras.preprocessing.image import ImageDataGenerator\n",
    "\n",
    "batch_size = 16\n",
    "epochs = 5\n",
    "optimizer = Adam(lr=0.0001, beta_1=0.9, beta_2=0.999, epsilon=1e-3)\n",
    "metrics = [tf.keras.metrics.AUC(),tf.keras.metrics.Precision() , tf.keras.metrics.Recall()]\n",
    "model.compile(optimizer = optimizer, loss = 'categorical_crossentropy', metrics=['accuracy' , metrics])\n",
    "\n",
    "datagen = ImageDataGenerator(zoom_range = 0.2, horizontal_flip=True, shear_range=0.2)\n",
    "\n",
    "datagen.fit(X_train)\n",
    "\n",
    "history=model.fit(datagen.flow(X_train,y_train), epochs=epochs, batch_size=batch_size, shuffle=True, validation_data=(X_test, y_test), class_weight=class_weights)"
   ]
  },
  {
   "cell_type": "code",
   "execution_count": 16,
   "metadata": {},
   "outputs": [
    {
     "name": "stdout",
     "output_type": "stream",
     "text": [
      "77/77 [==============================] - 3s 38ms/step\n"
     ]
    }
   ],
   "source": [
    "pred = model.predict(X_test)"
   ]
  },
  {
   "cell_type": "code",
   "execution_count": 19,
   "metadata": {},
   "outputs": [],
   "source": [
    "preds = np.argmax(pred , axis = 1)"
   ]
  },
  {
   "cell_type": "code",
   "execution_count": 20,
   "metadata": {},
   "outputs": [
    {
     "name": "stdout",
     "output_type": "stream",
     "text": [
      "[3 5 1 ... 0 5 1]\n"
     ]
    }
   ],
   "source": [
    "print(preds)"
   ]
  },
  {
   "cell_type": "code",
   "execution_count": null,
   "metadata": {},
   "outputs": [],
   "source": []
  }
 ],
 "metadata": {
  "kernelspec": {
   "display_name": "mlp",
   "language": "python",
   "name": "python3"
  },
  "language_info": {
   "codemirror_mode": {
    "name": "ipython",
    "version": 3
   },
   "file_extension": ".py",
   "mimetype": "text/x-python",
   "name": "python",
   "nbconvert_exporter": "python",
   "pygments_lexer": "ipython3",
   "version": "3.11.0"
  },
  "orig_nbformat": 4
 },
 "nbformat": 4,
 "nbformat_minor": 2
}
